Aprupa Alahari, your total grade is 104.0/100, good job!

Q1 total: 11.0/11.0
Correct histograms, PIQ/VIQ/FIQ +1 for each: 3.0/3.0
State hypothesis, PIQ/VIQ/FIQ +0.5 for each: 1.5/1.5
Correct p value, PIQ/VIQ/FIQ +0.5  for each: 1.5/1.5
Correct test statistics, PIQ/VIQ/FIQ +0.5  for each: 1.5/1.5
Check assumptions, PIQ/VIQ/FIQ +0.5  for each: 1.5/1.5
Essay: which test and what assumptions: 1.0/1.0
Essay: observation and conclusion: 1.0/1.0
Code trouble (-3 for not working code): 0.0/0.0

Q2 total: 11.0/11.0
compute average edge weights, ASD/control +0.5 for each: 1.0/1.0
draw histogram for average edge weights, ASD/control +1 for each: 2.0/2.0
draw normal quantile plot, ASD/control +1 for each: 2.0/2.0
test for normality, ASD/control +1 for each: 2.0/2.0
correct data transformation: 1.0/1.0
Essay: observation from normal quantile plots: 1.0/1.0
Essay: observation from Shapiro-Wilk test: 1.0/1.0
Essay: list transformations you tried, state choice of transformation : 1.0/1.0
Code trouble (-3 for not working code): 0.0/0.0

Q3 total: 9.0/10.0
state hypothesis: 1.0/1.0
correct nonparametric test, original/transformed +1 for each: 2.0/2.0
correct t test, original/transformed +1 for each: 2.0/2.0
Essay: observation from tests, and comparison between two tests: 1.0/2.0
Essay: assumptions, +1 for each test: 2.0/2.0
Essay: conclusion about the study: 1.0/1.0
Code trouble (-3 for not working code): 0.0/0.0

Q4 total: 10.0/10.0
ANOVA test for one IQ measure: 1.0/1.0
ANOVA test for average edge weights: 1.0/1.0
Essay: ANOVA table for IQ measure: 2.0/2.0
Essay: list and test assumptions of the ANOVA: 2.0/2.0
Essay: explain your results, IQ/average edge weight, +1 for each: 2.0/2.0
Essay: what test next? direction for the study: 2.0/2.0
Code trouble (-3 for not working code): 0.0/0.0

Q5 total: 10.0/10.0
compute pairwise correlation, ASD to control: 2.0/2.0
compute pairwise correlation, control to control: 2.0/2.0
strip plot, correlation/pvalue, 2 for each: 4.0/4.0
Essay: which correlation and why: 1.0/1.0
Essay: observation and conclusion from the results: 1.0/1.0
Code trouble (-3 for not working code): 0.0/0.0

Q6 total: 15.0/15.0
draw scatterplot, ASD/control +1 for each: 2.0/2.0
calculate correlation, ASD/control +1 for each: 2.0/2.0
estimate the slope and intercept, ASD/control +1 for each: 2.0/2.0
write out equation, ASD/control +0.5 for each: 1.0/1.0
compute R^2, ASD/control +1 for each: 2.0/2.0
Essay: list and test assumptions of linear regression: 2.0/2.0
Essay: observation and conclusion about the study: 1.0/1.0
Essay: information from R^2: 1.0/1.0
Essay: information from linear regression: 1.0/1.0
Essay: explanation for prediction from regression: 1.0/1.0
Code trouble (-3 for not working code): 0.0/0.0

Q7 total: 9.5/11.0
plot the relationship between age and strength, all individual/ASD/control +1 for each: 3.0/3.0
correct statistics for hypothesis testing, all individual/ASD/control +0.5 for each: 0.0/1.5
correct p value for hypothesis testing, all individual/ASD/control +0.5 for each: 1.5/1.5
confidence intervals for the slope, all individual/ASD/control +0.5 for each : 1.5/1.5
Essay: conclusion on hypothesis testing for all individual/ASD/control +0.5 for each: 1.5/1.5
Essay: was it appropriate? explanation?: 2.0/2.0
Code trouble (-3 for not working code): 0.0/0.0

Q8 total: 11.5/12.0
stripplot, med/nonmed +2 for each: 4.0/4.0
state hypothesis: 0.5/1.0
correct test statistics and p value: 1.0/1.0
permutation testing: 3.0/3.0
Essay: 1 tailed or 2 tailed and why?: 1.0/1.0
Essay: observation and conclusion from the results: 1.0/1.0
Essay: other ways?: 1.0/1.0
Code trouble (-3 for not working code): 0.0/0.0

Q9 total: 8.0/10.0
use bootstrapping to compute confidence intervals, med/nonmed +1 for each: 1.0/2.0
add 95% confidence intervals and the means to the stripplot, med/nonmed +1 for each: 1.5/2.0
Repeat computation and plots, 100/1000 +2 for each: 4.0/4.0
Essay: extra information contained in the confidence intervals?: 0.5/1.0
Essay: would 1000 be enough? why?: 1.0/1.0
Code trouble (-3 for not working code): 0.0/0.0

Q10 total: 9.0/10.0
Correct scatter plot +1: 1.0/1.0
Correct logistic regression calculated +2: 2.0/2.0
Correct results reported +1: 0.0/1.0
Evaluated with model.score +1: 1.0/1.0
Found an alternative predictor that performed better +2: 2.0/2.0
Essay: What did you learn?: 1.0/1.0
Essay: finding an alternative predictor: 1.0/1.0
Essay: error associated with more tests performed: 1.0/1.0
Code trouble: 0.0/0.0

